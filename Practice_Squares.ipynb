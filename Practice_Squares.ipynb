{
  "nbformat": 4,
  "nbformat_minor": 0,
  "metadata": {
    "colab": {
      "name": "Practice_Squares.ipynb",
      "provenance": [],
      "authorship_tag": "ABX9TyP2rDrKddlIcHBVo5YaiLWr"
    },
    "kernelspec": {
      "name": "python3",
      "display_name": "Python 3"
    },
    "language_info": {
      "name": "python"
    }
  },
  "cells": [
    {
      "cell_type": "code",
      "metadata": {
        "colab": {
          "base_uri": "https://localhost:8080/"
        },
        "id": "XpLiw1jvUjOs",
        "outputId": "c9a68c98-8076-4bca-e5b9-202a64b31cdb"
      },
      "source": [
        "## Squares Test\n",
        "def squares(store, value):\n",
        "  if value == store:\n",
        "    print(\"All Correct\")\n",
        "  else:\n",
        "    print(\"Incorrect\")\n",
        "start = input (str('Please enter starting number = '))\n",
        "end = input (str('Please enter ending number = '))\n",
        "store = []\n",
        "answers = []\n",
        "for num in range(int(start),int(end)+1,1):\n",
        "  square = num**2\n",
        "  store.append(square)\n",
        "  a = input(str(('What is the square of '+ str(num) + '? ')))\n",
        "  answers.append(int(a))\n",
        "squares(store,answers)"
      ],
      "execution_count": 1,
      "outputs": [
        {
          "output_type": "stream",
          "text": [
            "Please enter starting number = 10\n",
            "Please enter ending number = 16\n",
            "What is the square of 10? 100\n",
            "What is the square of 11? 121\n",
            "What is the square of 12? 144\n",
            "What is the square of 13? 169\n",
            "What is the square of 14? 196\n",
            "What is the square of 15? 225\n",
            "What is the square of 16? 256\n",
            "All Correct\n"
          ],
          "name": "stdout"
        }
      ]
    }
  ]
}